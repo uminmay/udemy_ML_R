{
 "cells": [
  {
   "cell_type": "markdown",
   "id": "ce9df80f-b678-4016-856b-61b25dc3c19f",
   "metadata": {},
   "source": [
    "# Reinforcement Learning starts here"
   ]
  },
  {
   "cell_type": "markdown",
   "id": "327d2b64-a767-4d14-bbc5-76b4f0aa9559",
   "metadata": {},
   "source": [
    "## Upper Confidence Bound"
   ]
  },
  {
   "cell_type": "markdown",
   "id": "527d66e7-a374-483a-836a-6816a229415c",
   "metadata": {},
   "source": [
    "### <- RealTime data -> Simulation Required [Ads Data]"
   ]
  },
  {
   "cell_type": "markdown",
   "id": "edccc28f-df4a-4bac-8dbe-4f6ff0e81b13",
   "metadata": {},
   "source": [
    "### Import Libraries and the dataset"
   ]
  },
  {
   "cell_type": "code",
   "execution_count": 1,
   "id": "6e2c07ea-15a3-41e3-98a2-d08c276de231",
   "metadata": {},
   "outputs": [],
   "source": [
    "import numpy as np\n",
    "import pandas as pd\n",
    "import matplotlib.pyplot as plt\n",
    "import math\n",
    "\n",
    "dataset = pd.read_csv('Ads_CTR_Optimisation.csv')"
   ]
  },
  {
   "cell_type": "markdown",
   "id": "769f1c0a-6b80-4eb8-9ebf-6c619009b828",
   "metadata": {},
   "source": [
    "### Implementing the UCB"
   ]
  },
  {
   "cell_type": "code",
   "execution_count": 11,
   "id": "50453918-80dd-477f-b8a2-a9d852ed0aa0",
   "metadata": {
    "tags": []
   },
   "outputs": [],
   "source": [
    "N = 800 # play with value of N, to decrease data and reduce cost\n",
    "d = 10\n",
    "ads_selected =[]\n",
    "numbers_of_selections = [0] * d\n",
    "sums_of_rewards = [0] * d\n",
    "total_reward = 0\n",
    "for n in range(0, N):\n",
    "    ad = 0\n",
    "    max_upper_bound = 0\n",
    "    for i in range(0, d):\n",
    "        if numbers_of_selections[i] > 0:\n",
    "            average_reward = sums_of_rewards[i] / numbers_of_selections[i]\n",
    "            delta_i = math.sqrt(3/2 * math.log(n + 1) / numbers_of_selections[i])\n",
    "            upper_bound = average_reward + delta_i\n",
    "        else:\n",
    "            upper_bound = 1e400\n",
    "        if(upper_bound > max_upper_bound):\n",
    "            max_upper_bound = upper_bound\n",
    "            ad = i\n",
    "    ads_selected.append(ad)\n",
    "    numbers_of_selections[ad] += 1\n",
    "    reward = dataset.values[n, ad]\n",
    "    sums_of_rewards[ad] = sums_of_rewards[ad] + dataset.values[n, ad]\n",
    "    total_reward = total_reward + reward\n",
    "    "
   ]
  },
  {
   "cell_type": "markdown",
   "id": "a63e7d64-ce38-43a6-941b-674cc8b8e1a7",
   "metadata": {},
   "source": [
    "### Visualising the Results"
   ]
  },
  {
   "cell_type": "code",
   "execution_count": 12,
   "id": "96d8d187-1183-4c75-8a18-b897176dc0fd",
   "metadata": {},
   "outputs": [
    {
     "data": {
      "image/png": "[encoded data removed]",
      "text/plain": [
       "<Figure size 432x288 with 1 Axes>"
      ]
     },
     "metadata": {
      "needs_background": "light"
     },
     "output_type": "display_data"
    }
   ],
   "source": [
    "plt.hist(ads_selected)\n",
    "plt.title(\"Histogram of the ads selections\")\n",
    "plt.xlabel(\"Ads\")\n",
    "plt.ylabel(\"Number of times each ad was selected\")\n",
    "plt.show()"
   ]
  },
  {
   "cell_type": "code",
   "execution_count": null,
   "id": "be63ed41-9d9f-4195-9e7a-6b3774f822d8",
   "metadata": {},
   "outputs": [],
   "source": []
  }
 ],
 "metadata": {
  "kernelspec": {
   "display_name": "Python 3",
   "language": "python",
   "name": "python3"
  },
  "language_info": {
   "codemirror_mode": {
    "name": "ipython",
    "version": 3
   },
   "file_extension": ".py",
   "mimetype": "text/x-python",
   "name": "python",
   "nbconvert_exporter": "python",
   "pygments_lexer": "ipython3",
   "version": "3.8.8"
  }
 },
 "nbformat": 4,
 "nbformat_minor": 5
}
